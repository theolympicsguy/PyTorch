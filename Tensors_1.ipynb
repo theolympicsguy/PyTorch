{
  "nbformat": 4,
  "nbformat_minor": 0,
  "metadata": {
    "colab": {
      "name": "02_02_tensors_1.ipynb",
      "version": "0.3.2",
      "provenance": [],
      "collapsed_sections": []
    },
    "kernelspec": {
      "name": "python3",
      "display_name": "Python 3"
    }
  },
  "cells": [
    {
      "cell_type": "markdown",
      "metadata": {
        "id": "LFNM3-HxkJtN",
        "colab_type": "text"
      },
      "source": [
        "# Tensors Part 1"
      ]
    },
    {
      "cell_type": "code",
      "metadata": {
        "id": "UmggPYL-bqAW",
        "colab_type": "code",
        "colab": {}
      },
      "source": [
        "import torch"
      ],
      "execution_count": 0,
      "outputs": []
    },
    {
      "cell_type": "markdown",
      "metadata": {
        "id": "0ipN4cH3zsO8",
        "colab_type": "text"
      },
      "source": [
        "## zeros()"
      ]
    },
    {
      "cell_type": "code",
      "metadata": {
        "id": "gcZd5WYkvofg",
        "colab_type": "code",
        "colab": {}
      },
      "source": [
        ""
      ],
      "execution_count": 0,
      "outputs": []
    },
    {
      "cell_type": "code",
      "metadata": {
        "id": "OUNSGAUAbtDU",
        "colab_type": "code",
        "colab": {}
      },
      "source": [
        ""
      ],
      "execution_count": 0,
      "outputs": []
    },
    {
      "cell_type": "markdown",
      "metadata": {
        "id": "Jl7s1b1pz4Vb",
        "colab_type": "text"
      },
      "source": [
        "## size() and shape()"
      ]
    },
    {
      "cell_type": "code",
      "metadata": {
        "id": "cUS6OKtNvn3o",
        "colab_type": "code",
        "colab": {}
      },
      "source": [
        ""
      ],
      "execution_count": 0,
      "outputs": []
    },
    {
      "cell_type": "code",
      "metadata": {
        "id": "HbVYAzoFvn1C",
        "colab_type": "code",
        "colab": {}
      },
      "source": [
        ""
      ],
      "execution_count": 0,
      "outputs": []
    },
    {
      "cell_type": "markdown",
      "metadata": {
        "id": "nxGVxeQ20ARC",
        "colab_type": "text"
      },
      "source": [
        "## ones_like()"
      ]
    },
    {
      "cell_type": "code",
      "metadata": {
        "id": "DVGmuO8kcI9_",
        "colab_type": "code",
        "colab": {}
      },
      "source": [
        ""
      ],
      "execution_count": 0,
      "outputs": []
    },
    {
      "cell_type": "code",
      "metadata": {
        "id": "P_i9GD42vqpA",
        "colab_type": "code",
        "colab": {}
      },
      "source": [
        ""
      ],
      "execution_count": 0,
      "outputs": []
    },
    {
      "cell_type": "markdown",
      "metadata": {
        "id": "6OZJGG9w0DL6",
        "colab_type": "text"
      },
      "source": [
        "## randn()"
      ]
    },
    {
      "cell_type": "code",
      "metadata": {
        "id": "6NJw78sgvrkC",
        "colab_type": "code",
        "colab": {}
      },
      "source": [
        ""
      ],
      "execution_count": 0,
      "outputs": []
    },
    {
      "cell_type": "code",
      "metadata": {
        "id": "v4A58adVvrhg",
        "colab_type": "code",
        "colab": {}
      },
      "source": [
        ""
      ],
      "execution_count": 0,
      "outputs": []
    },
    {
      "cell_type": "markdown",
      "metadata": {
        "id": "3rshy4Vq0Jft",
        "colab_type": "text"
      },
      "source": [
        "## fill_()"
      ]
    },
    {
      "cell_type": "code",
      "metadata": {
        "id": "lBqeZnwacqbU",
        "colab_type": "code",
        "colab": {}
      },
      "source": [
        ""
      ],
      "execution_count": 0,
      "outputs": []
    },
    {
      "cell_type": "code",
      "metadata": {
        "id": "2vOLSS_Yvu_J",
        "colab_type": "code",
        "colab": {}
      },
      "source": [
        ""
      ],
      "execution_count": 0,
      "outputs": []
    },
    {
      "cell_type": "markdown",
      "metadata": {
        "id": "i-djt56yw-TM",
        "colab_type": "text"
      },
      "source": [
        "## view()"
      ]
    },
    {
      "cell_type": "code",
      "metadata": {
        "id": "7IGJpW1SxADm",
        "colab_type": "code",
        "colab": {}
      },
      "source": [
        ""
      ],
      "execution_count": 0,
      "outputs": []
    },
    {
      "cell_type": "code",
      "metadata": {
        "id": "02QsLGUnxBFg",
        "colab_type": "code",
        "colab": {}
      },
      "source": [
        ""
      ],
      "execution_count": 0,
      "outputs": []
    }
  ]
}